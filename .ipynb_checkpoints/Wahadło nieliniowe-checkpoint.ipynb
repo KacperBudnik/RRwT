{
 "cells": [
  {
   "cell_type": "markdown",
   "metadata": {},
   "source": [
    "# Wahadło na sprężynie"
   ]
  },
  {
   "cell_type": "markdown",
   "metadata": {},
   "source": [
    "## Założenia:\n",
    "- sprężyna się nie wygina\n",
    "- brak oporów ruchu\n",
    "- Wszystko co jest skomplikowane jest be\n",
    "- Co ja robię ze swoim życiem\n",
    "- Ruch jest wzdłuż jednej płaszczyzny (zmienia się kąt oraz długość sprężyny)\n",
    "- Masa sprężyny jest pomijalna\n",
    "- Całkowita energia układu składa się z energi kinetycznej i potencjalnej ciała oraz energi potencjalnej sprężyny"
   ]
  },
  {
   "cell_type": "markdown",
   "metadata": {},
   "source": [
    "## Energia w układzie:\n",
    "### Energia kinetyczna\n",
    "$$ T = \\frac{mv^2}{2} = \\frac{m\\dot{\\gamma}^2}{2} = \\frac{m(\\dot{x}^2+\\dot{y}^2)}{2}=\\frac{m(\\dot{r}^2+r^2\\dot{\\theta}^2)}{2}$$\n",
    "### Energia potencjalna\n",
    "- Ciała\n",
    "$$ U_c = mgh $$\n",
    "- Sprężyny\n",
    "$$ U_s = \\frac{1}{2}k \\left(l-r\\right)^2$$\n",
    "Gdzie\n",
    " - $m$ - masza ciała (kulki)\n",
    " - $v=v(t)$ - prędkość ciała (kulki) w chwili t\n",
    " - $\\gamma = \\gamma(t)$ - położeniem ciała (kulki) w chwili t\n",
    " - $g$ - stała grawitacyjna\n",
    " - $h=h(t)$ - wysokość ciała (kulki) nad pewnym poziomem w chwili t\n",
    " - $r=r(t)$ - długość sprężyny w chwili t\n",
    " - $\\theta$ - kąt wychylenia z pionu sprężyny\n",
    " - $l$ - długość sprężyny w spoczynku"
   ]
  },
  {
   "cell_type": "markdown",
   "metadata": {},
   "source": [
    "<img src=\"https://cdn.discordapp.com/attachments/766259826367004712/924708545218367488/unknown.png\" alt=\"Girl in a jacket\" width=\"21000\" height=\"60000\">"
   ]
  },
  {
   "cell_type": "markdown",
   "metadata": {},
   "source": [
    "## Współrzędne biegunowe\n",
    "Jeśli przyjmiemy, że\n",
    " - $r$ jest rozciągnięciem sprężyny ( $l+r$ jest długością sprężyny)\n",
    " - $\\theta$ kątem między sprężyną a położeniem równowagi (pionem)\n",
    "to powyższe wzory możemy przepisać w następujący sposób"
   ]
  },
  {
   "cell_type": "markdown",
   "metadata": {},
   "source": [
    "### Energia Kinetyczna\n",
    "$$ T = \\frac{mv^2}{2} =\\frac{m\\left({\\left(\\dot l+\\dot r\\right)}^2+(l+r)^2\\dot{\\theta}^2\\right)}{2} = \\frac{m\\left({\\dot r}^2+(l+r)^2\\dot{\\theta}^2\\right)}{2}$$\n"
   ]
  },
  {
   "cell_type": "markdown",
   "metadata": {},
   "source": [
    "### Energia Potencjalna\n",
    "- Ciała\n",
    "$$ U_c = {mg}h = {mg}\\left(l-(l+r)\\cos\\theta\\right) = mgl - mg(l+r)\\cos\\theta = mg(l+r)(1-\\cos\\theta) + mgr$$ \n",
    "- Sprężyny\n",
    "$$ U_s = \\frac{1}{2}kr^2$$"
   ]
  },
  {
   "cell_type": "markdown",
   "metadata": {},
   "source": [
    "## Lagranżian"
   ]
  },
  {
   "cell_type": "markdown",
   "metadata": {},
   "source": [
    "$$\\mathcal{L} = T - U = T - U_c - U_s = \\frac{m\\left({\\dot r}^2+(l+r)^2\\dot{\\theta}^2\\right)}{2} - mg(l+r)(1-\\cos\\theta) - mgr - kr^2$$"
   ]
  },
  {
   "cell_type": "markdown",
   "metadata": {},
   "source": [
    "Wiemy, że \n",
    "$$ \\frac{\\partial{\\mathcal{L}}}{\\partial{r}}=\\frac{\\text d}{\\text d t} \\frac{\\partial{\\mathcal{L}}}{\\partial\\dot{r}} \\quad \\text{oraz} \\quad \\frac{\\partial{\\mathcal{L}}}{\\partial{\\theta}}=\\frac{\\text d}{\\text d t} \\frac{\\partial{\\mathcal{L}}}{\\partial\\dot{\\theta}}$$"
   ]
  },
  {
   "cell_type": "markdown",
   "metadata": {},
   "source": [
    "Co daje nam dwa równania\n",
    "$$\n",
    "\\left\\{ \n",
    "\\begin{array}{l}\n",
    "m(l+r)\\dot{\\theta} - kr - mg(1-\\cos\\theta) + mg = \\frac{\\text d}{\\text d t}\\left(\\vphantom{\\frac{\\text d}{\\text d t}}m\\dot r\\right)\\\\\n",
    "-\\sin\\theta mg(l+r) = \\frac{\\text d}{\\text d t}\\left(\\vphantom{\\frac{\\text d}{\\text d t}}m(l+r)^2\\dot\\theta\\right)\n",
    "\\end{array} \\right.\n",
    "$$"
   ]
  },
  {
   "cell_type": "markdown",
   "metadata": {},
   "source": [
    "Które po przekształceniach przyjmują postać\n",
    "$$\n",
    "\\left\\{ \\begin{array}{l}\n",
    "\\ddot{r}= g \\cos\\theta - \\frac{k}{m}r+(l+r)\\dot\\theta\\\\\n",
    "\\ddot{\\theta}(l+r) = -g\\sin\\theta + 2 \\dot\\theta\\dot{r}\n",
    "\\end{array} \\right.\n",
    "$$"
   ]
  },
  {
   "cell_type": "markdown",
   "metadata": {},
   "source": [
    "Ale, co zaskakujące, to równanie przyjemniej rozpatrywać w współrzędnych <b>kartezjańskich</b>, wtedy"
   ]
  },
  {
   "cell_type": "markdown",
   "metadata": {},
   "source": [
    "### Energia Kinetyczna\n",
    "$$ T = \\frac{mv^2}{2} =\\frac{m\\left(\\dot x^2 +\\dot y^2\\right)}{2}$$"
   ]
  },
  {
   "cell_type": "markdown",
   "metadata": {},
   "source": [
    "### Energia Potencjalna\n",
    "- Ciała\n",
    "$$ U_c = mg = mg(l-y) = -mgy$$ \n",
    "- Sprężyny\n",
    "$$ U_s = \\frac{1}{2}k(l-r)=\\frac{1}{2}k\\left(l-\\sqrt{x^2+y^2}\\right)^2$$"
   ]
  },
  {
   "cell_type": "markdown",
   "metadata": {},
   "source": [
    "## Lagrangian\n",
    "$$\\mathcal{L} = T - U = T - U_c - U_s = \\frac{m\\left(\\dot x^2 +\\dot y^2\\right)}{2} + mgy -\\frac{1}{2}k\\left(l-\\sqrt{x^2+y^2}\\right)^2$$"
   ]
  },
  {
   "cell_type": "markdown",
   "metadata": {},
   "source": [
    "Wiemy, że \n",
    "$$ \\frac{\\partial{\\mathcal{L}}}{\\partial{x}}=\\frac{\\text d}{\\text d t} \\frac{\\partial{\\mathcal{L}}}{\\partial\\dot{x}} \\quad \\text{oraz} \\quad \\frac{\\partial{\\mathcal{L}}}{\\partial{y}}=\\frac{\\text d}{\\text d t} \\frac{\\partial{\\mathcal{L}}}{\\partial\\dot{y}}$$"
   ]
  },
  {
   "cell_type": "markdown",
   "metadata": {},
   "source": [
    "Co daje nam dwa równania\n",
    "$$\n",
    "\\left\\{ \n",
    "\\begin{array}{l}\n",
    "-k\\left(l-\\sqrt{x^2+y^2}\\right)\\dfrac{x}{\\sqrt{x^2+y^2}} = \\dfrac{\\text d}{\\text d t}\\left(\\vphantom{\\dfrac{\\text d}{\\text d t}} m\\dot x\\right)\\\\\n",
    "mg-k\\left(l-\\sqrt{x^2+y^2}\\right)\\dfrac{y}{\\sqrt{x^2+y^2}}=\\dfrac{\\text d}{\\text d t}\\left(\\vphantom{\\dfrac{\\text d}{\\text d t}} m\\dot y\\right)\n",
    "\\end{array} \\right.\n",
    "$$"
   ]
  },
  {
   "cell_type": "markdown",
   "metadata": {},
   "source": [
    "Które po przekształceniach przyjmują postać\n",
    "$$\n",
    "\\left\\{ \\begin{array}{l}\n",
    "\\ddot{x}= \\phantom{g+}x\\dfrac{-k}{m}\\left(1-\\dfrac{l}{\\sqrt{x^2+y^2}}\\right)\\\\\n",
    "\\ddot{y}= g+y\\dfrac{-k}{m}\\left(1-\\dfrac{l}{\\sqrt{x^2+y^2}}\\right)\\\\\n",
    "\\end{array} \\right.\n",
    "$$"
   ]
  },
  {
   "cell_type": "markdown",
   "metadata": {},
   "source": [
    "Możemy zauważyć pewne podobieństwo między równaniami, jeśli przyjmiemy, że\n"
   ]
  },
  {
   "cell_type": "markdown",
   "metadata": {},
   "source": [
    "$$ f(x,y) = \\dfrac{-k}{m}\\left(1-\\dfrac{l}{\\sqrt{x^2+y^2}}\\right) $$"
   ]
  },
  {
   "cell_type": "markdown",
   "metadata": {},
   "source": [
    "Powyższy układ równanań przyjmuje postać\n",
    "$$\n",
    "\\left\\{ \\begin{array}{l}\n",
    "\\ddot{x}=\\phantom{g+} xf(x,y)\\\\\n",
    "\\ddot{y}= g+yf(x,y)\\\\\n",
    "\\end{array} \\right.\n",
    "$$"
   ]
  },
  {
   "cell_type": "code",
   "execution_count": null,
   "metadata": {},
   "outputs": [],
   "source": []
  }
 ],
 "metadata": {
  "kernelspec": {
   "display_name": "Python 3",
   "language": "python",
   "name": "python3"
  },
  "language_info": {
   "codemirror_mode": {
    "name": "ipython",
    "version": 3
   },
   "file_extension": ".py",
   "mimetype": "text/x-python",
   "name": "python",
   "nbconvert_exporter": "python",
   "pygments_lexer": "ipython3",
   "version": "3.8.5"
  }
 },
 "nbformat": 4,
 "nbformat_minor": 4
}
